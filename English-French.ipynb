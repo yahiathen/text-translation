{
 "cells": [
  {
   "cell_type": "code",
   "execution_count": 1,
   "metadata": {},
   "outputs": [],
   "source": [
    "import itertools\n",
    "import logging\n",
    "from tqdm import tqdm_notebook\n",
    "import unicodedata\n",
    "import string\n",
    "\n",
    "from torch.utils.data import Dataset, DataLoader\n",
    "from torch.nn.utils.rnn import pack_sequence, pad_sequence, pad_packed_sequence\n",
    "import torch.nn as nn\n",
    "import torch.optim as optim\n",
    "from torch.utils.tensorboard import SummaryWriter\n",
    "import torch\n",
    "import random\n",
    "\n",
    "from collections import namedtuple\n",
    "import numpy as np\n",
    "import pdb\n",
    "\n",
    "import matplotlib.pyplot as plt\n",
    "logging.basicConfig(level=logging.INFO)\n",
    "\n",
    "Batch = namedtuple(\"Batch\", [\"text\", \"labels\"])"
   ]
  },
  {
   "cell_type": "code",
   "execution_count": 2,
   "metadata": {},
   "outputs": [
    {
     "data": {
      "application/vnd.jupyter.widget-view+json": {
       "model_id": "a2c5eaea0cc74922818f24ca5846bb5a",
       "version_major": 2,
       "version_minor": 0
      },
      "text/plain": [
       "HBox(children=(IntProgress(value=0, max=170652), HTML(value='')))"
      ]
     },
     "metadata": {},
     "output_type": "display_data"
    },
    {
     "name": "stdout",
     "output_type": "stream",
     "text": [
      "\n"
     ]
    }
   ],
   "source": [
    "#### Partie traduction\n",
    "\n",
    "PAD = 0\n",
    "EOS = 1\n",
    "SOS = 2\n",
    "\n",
    "class VocabularyTrad:\n",
    "    def __init__(self):\n",
    "        self.word2id = {\"<PAD>\":PAD,\"<EOS>\":EOS,\"<SOS>\":SOS}\n",
    "        self.id2word = {PAD:\"<PAD>\",EOS:\"<EOS>\",SOS:\"<SOS>\"}\n",
    "    \n",
    "    def get_sentence(self,sentence):\n",
    "        return [self.get(x,True) for x in sentence.split(\" \")]+[1]\n",
    "    def get(self,w,adding=False):\n",
    "        try:\n",
    "            return self.word2id[w]\n",
    "        except KeyError:\n",
    "            if adding:\n",
    "                self.word2id[w]=len(self.word2id)\n",
    "                self.id2word[self.word2id[w]]=w\n",
    "                return self.word2id[w]\n",
    "            raise\n",
    "    def __getitem__(self,i): return self.id2word[i]\n",
    "    def __len__(self): return len(self.word2id)\n",
    "\n",
    "\n",
    "def normalize(s):\n",
    "    return ''.join(c if c in string.ascii_letters else \" \"\n",
    "         for c in unicodedata.normalize('NFD', s.lower().strip()) \n",
    "         if  c in string.ascii_letters+\" \"+string.punctuation)\n",
    "\n",
    "\n",
    "\n",
    "class TradDataset():\n",
    "    def __init__(self,data,vocOrig,vocDest,adding=True,max_len=10):\n",
    "        self.sentences =[]\n",
    "        for s in tqdm_notebook(data.split(\"\\n\")):\n",
    "            if len(s)<1:continue\n",
    "            orig,dest=map(normalize,s.split(\"\\t\")[:2])\n",
    "            if len(orig)>max_len: continue            \n",
    "            self.sentences.append((torch.tensor(vocOrig.get_sentence(orig)),torch.tensor(vocDest.get_sentence(dest))))\n",
    "    def __len__(self):return len(self.sentences)\n",
    "    def __getitem__(self,i): return self.sentences[i]\n",
    "    \n",
    "    @staticmethod\n",
    "    def collate(batch):\n",
    "        data = [torch.Tensor(item[0].float()).long() for item in batch]\n",
    "        labels = [torch.Tensor(item[1].float()).long() for item in batch]\n",
    "        \n",
    "        #return Batch(pack_sequence(data, enforce_sorted=True), pack_sequence(labels, enforce_sorted=True))\n",
    "        return Batch(data, labels)\n",
    "\n",
    "\n",
    "with open(\"fra-eng/fra.txt\") as f:\n",
    "    lines = f.read()\n",
    "vocEng = VocabularyTrad()\n",
    "vocFra = VocabularyTrad()\n",
    "datatrain = TradDataset(lines,vocEng,vocFra)\n"
   ]
  },
  {
   "cell_type": "code",
   "execution_count": 3,
   "metadata": {},
   "outputs": [],
   "source": [
    "class Encoder(nn.Module):\n",
    "    def __init__(self, orig_vocab_size, embed_size, hidden_size, n_layers=2):\n",
    "        super(Encoder, self).__init__()\n",
    "        self.orig_vocab_size = orig_vocab_size\n",
    "        self.embed_size = embed_size\n",
    "        self.hidden_size = hidden_size\n",
    "        self.n_layers = n_layers\n",
    "        \n",
    "        self.embedding_layer = nn.Embedding(orig_vocab_size, embed_size)\n",
    "        self.encode = nn.LSTM(embed_size, hidden_size, n_layers, bidirectional=False, batch_first=True)\n",
    "        \n",
    "        \n",
    "        \n",
    "    def forward(self, X):\n",
    "        embeds = self.embedding_layer(X)\n",
    "        outsEncoder, (hidden, cell) = self.encode(pack_sequence(embeds))\n",
    "        \n",
    "        \"\"\"In case we have more than one layer lstm or bidirectional one\"\"\"\n",
    "        context = hidden.transpose(0,1).contiguous().view(hidden.size(1),1,-1)\n",
    "        cell = cell.transpose(0,1).contiguous().view(cell.size(1),1,-1)\n",
    "        \n",
    "        return context,cell"
   ]
  },
  {
   "cell_type": "code",
   "execution_count": 4,
   "metadata": {},
   "outputs": [],
   "source": [
    "class Decoder(nn.Module):\n",
    "    def __init__(self, dest_vocab_size, embed_size, hidden_size, n_layers=2):\n",
    "        super(Decoder, self).__init__()\n",
    "        \n",
    "        self.dest_vocab_size = dest_vocab_size\n",
    "        self.embed_size = embed_size\n",
    "        self.hidden_size = hidden_size\n",
    "        self.n_layers = n_layers\n",
    "        \n",
    "        self.embedding_layer = nn.Embedding(dest_vocab_size, embed_size)\n",
    "        self.decoder_one_step = nn.LSTM(embed_size, hidden_size,n_layers, bidirectional=False, batch_first=True)\n",
    "        self.project = nn.Linear(n_layers*hidden_size, dest_vocab_size)\n",
    "        \n",
    "    \n",
    "    def forward(self, X, h_c_tuple):\n",
    "        \"\"\"X.size(): batch*1\"\"\"\n",
    "        h,c=h_c_tuple\n",
    "        X=X.unsqueeze(1)\n",
    "        embed = self.embedding_layer(X)\n",
    "        #print(\"***\",h.shape, c.shape)\n",
    "        outputs, (hidden, cell) = self.decoder_one_step(embed,(h,c))\n",
    "        #print(hidden.shape)\n",
    "        y_hat = self.project(hidden)\n",
    "        #print(y_hat.shape)\n",
    "        return y_hat, (hidden.transpose(0,1), cell.transpose(0,1))"
   ]
  },
  {
   "cell_type": "code",
   "execution_count": 5,
   "metadata": {},
   "outputs": [],
   "source": [
    "class Seq2Seq(nn.Module):\n",
    "    def __init__(self, encoder, decoder):\n",
    "        super(Seq2Seq, self).__init__()\n",
    "        \n",
    "        self.encoder = encoder\n",
    "        self.decoder = decoder\n",
    "        \n",
    "    def forward(self, X_src, X_target, constrained_mode_prob=0.3, train=True):\n",
    "        \n",
    "        #pdb.set_trace()\n",
    "        #print(len(X))\n",
    "        #pdb.set_trace()\n",
    "        X_src=pad_sequence(X_src, batch_first=True, padding_value=PAD).long()\n",
    "        X_target=pad_sequence(X_target, batch_first=False, padding_value=PAD).long()\n",
    "        \n",
    "        trg_len = X_target.size(0) \n",
    "        \"\"\"Batch size\"\"\"\n",
    "        hiddens,cells = self.encoder(X_src)    \n",
    "        \n",
    "        batch_size = hiddens.size(0)\n",
    "        \"\"\"Decoder\"\"\"\n",
    "        \n",
    "        #print(\":::::\",hiddens.shape, cells.shape)\n",
    "        \n",
    "        X = torch.Tensor([SOS]*batch_size).long()\n",
    "        \n",
    "        if train:\n",
    "            \n",
    "            outputs = torch.zeros(trg_len, batch_size, self.decoder.dest_vocab_size)\n",
    "            for i in range(trg_len):\n",
    "                X, (hiddens, cells) = self.decoder(X,(hiddens.transpose(0,1),cells.transpose(0,1)))\n",
    "\n",
    "                outputs[i]=X.squeeze(0)\n",
    "\n",
    "                constraint = random.random() < constrained_mode_prob\n",
    "                if constraint:\n",
    "                    X = X_target[i]\n",
    "                else:\n",
    "                    X = X.argmax(2).squeeze(0)\n",
    "        else:\n",
    "            i=0\n",
    "            outputs=[]\n",
    "            while X.item()!=EOS:\n",
    "                \n",
    "                X, (hiddens, cells) = self.decoder(X,(hiddens.transpose(0,1),cells.transpose(0,1)))\n",
    "\n",
    "                outputs.append(X.squeeze(0))\n",
    "                X = X.argmax(2).squeeze(0)\n",
    "            \n",
    "        return outputs"
   ]
  },
  {
   "cell_type": "code",
   "execution_count": 60,
   "metadata": {},
   "outputs": [
    {
     "name": "stdout",
     "output_type": "stream",
     "text": [
      "The model has 3,808,725 trainable parameters\n"
     ]
    }
   ],
   "source": [
    "batch_size=128\n",
    "\n",
    "embed_size_encoder=256\n",
    "embed_size_decoder=256\n",
    "\n",
    "hidden_dim_encoder=512\n",
    "\n",
    "hidden_dim_decoder=hidden_dim_encoder\n",
    "\n",
    "orig_vocab_size=len(vocEng.word2id)\n",
    "dest_vocab_size=len(vocFra.word2id)\n",
    "\n",
    "dataLoaderTrain = DataLoader(datatrain, batch_size=batch_size, collate_fn=datatrain.collate)\n",
    "\n",
    "encoderModel = Encoder(orig_vocab_size, embed_size_encoder, hidden_dim_encoder, n_layers=1)\n",
    "decoderModel = Decoder(dest_vocab_size, embed_size_decoder,hidden_dim_decoder, n_layers=1)\n",
    "seq2seqModel = Seq2Seq(encoderModel, decoderModel)\n",
    "\n",
    "lr=0.0001\n",
    "optimizer = optim.Adam(list(seq2seqModel.parameters())+list(encoderModel.parameters())+list(decoderModel.parameters()),lr=lr)\n",
    "\n",
    "criterion = nn.CrossEntropyLoss(ignore_index=PAD)\n",
    "\n",
    "nb_epoch = 300\n",
    "clip = 1\n",
    "\n",
    "constrained_mode_prob = 0.9\n",
    "\n",
    "def count_parameters(model):\n",
    "    return sum(p.numel() for p in model.parameters() if p.requires_grad)\n",
    "\n",
    "print(f'The model has {count_parameters(seq2seqModel):,} trainable parameters')"
   ]
  },
  {
   "cell_type": "code",
   "execution_count": null,
   "metadata": {},
   "outputs": [],
   "source": []
  },
  {
   "cell_type": "code",
   "execution_count": 61,
   "metadata": {},
   "outputs": [
    {
     "data": {
      "application/vnd.jupyter.widget-view+json": {
       "model_id": "8e58f93b96c14b8d82fea07cc9285054",
       "version_major": 2,
       "version_minor": 0
      },
      "text/plain": [
       "HBox(children=(IntProgress(value=0, max=300), HTML(value='')))"
      ]
     },
     "metadata": {},
     "output_type": "display_data"
    },
    {
     "name": "stdout",
     "output_type": "stream",
     "text": [
      "\n"
     ]
    }
   ],
   "source": [
    "list_errors = []\n",
    "for epoch in tqdm_notebook(range(nb_epoch)):\n",
    "    epoch_error = 0\n",
    "    for x,y in dataLoaderTrain:\n",
    "\n",
    "        optimizer.zero_grad()\n",
    "        outputs=seq2seqModel(x,y, constrained_mode_prob=0.8, train=True)\n",
    "        \n",
    "        y=pad_sequence(y).view(-1)\n",
    "        outputs=outputs.view(-1,outputs.shape[-1])\n",
    "        loss = criterion(outputs, y)\n",
    "        loss.backward()\n",
    "        \n",
    "        list_errors.append(loss.item())\n",
    "        #torch.nn.utils.clip_grad_norm_(seq2seqModel.parameters(), clip)\n",
    "        optimizer.step()\n",
    "        \n",
    "        epoch_error+=loss.item()\n",
    "        if epoch%10 == 0:\n",
    "            constrained_mode_prob*=constrained_mode_prob\n",
    "        \n",
    "    #print(epoch_error/len(dataLoaderTrain))\n",
    "    #list_errors.append(epoch_error/len(dataLoaderTrain))\n",
    "    "
   ]
  },
  {
   "cell_type": "code",
   "execution_count": 62,
   "metadata": {},
   "outputs": [
    {
     "data": {
      "text/plain": [
       "[<matplotlib.lines.Line2D at 0x7f928983d9b0>]"
      ]
     },
     "execution_count": 62,
     "metadata": {},
     "output_type": "execute_result"
    },
    {
     "data": {
      "image/png": "[encoded data removed]",
      "text/plain": [
       "<Figure size 432x288 with 1 Axes>"
      ]
     },
     "metadata": {
      "needs_background": "light"
     },
     "output_type": "display_data"
    }
   ],
   "source": [
    "plt.plot(list_errors)"
   ]
  },
  {
   "cell_type": "code",
   "execution_count": 63,
   "metadata": {},
   "outputs": [],
   "source": [
    "seq2seqModel=seq2seqModel.eval()"
   ]
  },
  {
   "cell_type": "code",
   "execution_count": 64,
   "metadata": {},
   "outputs": [
    {
     "name": "stdout",
     "output_type": "stream",
     "text": [
      "i\n",
      "see\n",
      "\n",
      "<EOS>\n",
      "je\n",
      "comprends\n",
      "\n",
      "<EOS>\n"
     ]
    }
   ],
   "source": [
    "x,y=datatrain.__getitem__(20)\n",
    "for word in x:\n",
    "    print(vocEng.id2word[word.item()])\n",
    "\n",
    "for word in y:\n",
    "    print(vocFra.id2word[word.item()])\n"
   ]
  },
  {
   "cell_type": "code",
   "execution_count": 65,
   "metadata": {},
   "outputs": [],
   "source": [
    "def translate(model, sentence, vocOri, vocDest):\n",
    "    #pdb.set_trace()\n",
    "    sentence_ids = torch.Tensor(vocOri.get_sentence(sentence)).long().unsqueeze(0)\n",
    "    y_hat = model(sentence_ids,sentence_ids, 0, False)\n",
    "    \n",
    "    sentence_target = \"\"\n",
    "    for word in y_hat:\n",
    "        sentence_target+=vocDest.id2word[word.argmax(1).item()]+\" \"\n",
    "    print(\"Sentence origin:{}\\nSentence target:{}\".format(sentence, sentence_target))"
   ]
  },
  {
   "cell_type": "code",
   "execution_count": 91,
   "metadata": {},
   "outputs": [
    {
     "name": "stdout",
     "output_type": "stream",
     "text": [
      "Sentence origin:who is he\n",
      "Sentence target:qui est il  <EOS> \n"
     ]
    }
   ],
   "source": [
    "sentence = \"who is he\"\n",
    "translate(seq2seqModel, sentence, vocEng, vocFra)"
   ]
  },
  {
   "cell_type": "code",
   "execution_count": 100,
   "metadata": {},
   "outputs": [],
   "source": [
    "torch.save(seq2seqModel.state_dict(), \"./modelEngFra\")"
   ]
  },
  {
   "cell_type": "code",
   "execution_count": null,
   "metadata": {},
   "outputs": [],
   "source": []
  }
 ],
 "metadata": {
  "kernelspec": {
   "display_name": "Python 3",
   "language": "python",
   "name": "python3"
  },
  "language_info": {
   "codemirror_mode": {
    "name": "ipython",
    "version": 3
   },
   "file_extension": ".py",
   "mimetype": "text/x-python",
   "name": "python",
   "nbconvert_exporter": "python",
   "pygments_lexer": "ipython3",
   "version": "3.6.9"
  }
 },
 "nbformat": 4,
 "nbformat_minor": 2
}
